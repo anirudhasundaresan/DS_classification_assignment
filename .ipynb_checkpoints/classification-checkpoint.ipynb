{
 "cells": [
  {
   "cell_type": "code",
   "execution_count": 574,
   "metadata": {
    "scrolled": false
   },
   "outputs": [],
   "source": [
    "import pandas as pd\n",
    "import matplotlib.pyplot as plt\n",
    "from sklearn.preprocessing import StandardScaler\n",
    "from sklearn.decomposition import PCA\n",
    "from sklearn.linear_model import LogisticRegressionCV\n",
    "from sklearn.metrics import confusion_matrix\n",
    "from sklearn import svm\n",
    "from sklearn.model_selection import cross_val_score\n",
    "from sklearn.ensemble import RandomForestClassifier\n",
    "from sklearn.ensemble import ExtraTreesClassifier\n",
    "from sklearn.linear_model import SGDClassifier\n",
    "from sklearn import neighbors\n",
    "import warnings\n",
    "warnings.filterwarnings('ignore')\n",
    "from sklearn.ensemble import VotingClassifier\n",
    "\n",
    "from IPython.core.interactiveshell import InteractiveShell\n",
    "InteractiveShell.ast_node_interactivity = \"all\""
   ]
  },
  {
   "cell_type": "code",
   "execution_count": 319,
   "metadata": {
    "scrolled": false
   },
   "outputs": [],
   "source": [
    "df_train = pd.read_csv('./train_features.csv', header=None)\n",
    "df_trainlabels = pd.read_csv('./train_labels.csv', header=None)\n",
    "df_test = pd.read_csv('./test_features.csv', header=None)"
   ]
  },
  {
   "cell_type": "code",
   "execution_count": 320,
   "metadata": {
    "scrolled": false
   },
   "outputs": [
    {
     "data": {
      "text/html": [
       "<div>\n",
       "<style scoped>\n",
       "    .dataframe tbody tr th:only-of-type {\n",
       "        vertical-align: middle;\n",
       "    }\n",
       "\n",
       "    .dataframe tbody tr th {\n",
       "        vertical-align: top;\n",
       "    }\n",
       "\n",
       "    .dataframe thead th {\n",
       "        text-align: right;\n",
       "    }\n",
       "</style>\n",
       "<table border=\"1\" class=\"dataframe\">\n",
       "  <thead>\n",
       "    <tr style=\"text-align: right;\">\n",
       "      <th></th>\n",
       "      <th>0</th>\n",
       "      <th>1</th>\n",
       "      <th>2</th>\n",
       "      <th>3</th>\n",
       "      <th>4</th>\n",
       "      <th>5</th>\n",
       "      <th>6</th>\n",
       "      <th>7</th>\n",
       "      <th>8</th>\n",
       "      <th>9</th>\n",
       "      <th>...</th>\n",
       "      <th>893</th>\n",
       "      <th>894</th>\n",
       "      <th>895</th>\n",
       "      <th>896</th>\n",
       "      <th>897</th>\n",
       "      <th>898</th>\n",
       "      <th>899</th>\n",
       "      <th>900</th>\n",
       "      <th>901</th>\n",
       "      <th>902</th>\n",
       "    </tr>\n",
       "  </thead>\n",
       "  <tbody>\n",
       "    <tr>\n",
       "      <th>0</th>\n",
       "      <td>right</td>\n",
       "      <td>type_3</td>\n",
       "      <td>green</td>\n",
       "      <td>0.8827</td>\n",
       "      <td>3.2917</td>\n",
       "      <td>1.4651</td>\n",
       "      <td>-4.5278</td>\n",
       "      <td>1.0490</td>\n",
       "      <td>2.3398</td>\n",
       "      <td>1.8729</td>\n",
       "      <td>...</td>\n",
       "      <td>0.8854</td>\n",
       "      <td>-0.8752</td>\n",
       "      <td>0.2662</td>\n",
       "      <td>4.9686</td>\n",
       "      <td>2.5588</td>\n",
       "      <td>-0.6121</td>\n",
       "      <td>-3.3692</td>\n",
       "      <td>0.0550</td>\n",
       "      <td>-1.5296</td>\n",
       "      <td>-5.3041</td>\n",
       "    </tr>\n",
       "    <tr>\n",
       "      <th>1</th>\n",
       "      <td>left</td>\n",
       "      <td>type_2</td>\n",
       "      <td>blue</td>\n",
       "      <td>1.4458</td>\n",
       "      <td>-2.9575</td>\n",
       "      <td>-1.2341</td>\n",
       "      <td>-3.9684</td>\n",
       "      <td>-2.7645</td>\n",
       "      <td>5.6346</td>\n",
       "      <td>1.7838</td>\n",
       "      <td>...</td>\n",
       "      <td>-4.3774</td>\n",
       "      <td>-2.2512</td>\n",
       "      <td>-1.6331</td>\n",
       "      <td>7.2724</td>\n",
       "      <td>1.7616</td>\n",
       "      <td>4.2826</td>\n",
       "      <td>5.5557</td>\n",
       "      <td>1.0588</td>\n",
       "      <td>2.6734</td>\n",
       "      <td>-4.5224</td>\n",
       "    </tr>\n",
       "    <tr>\n",
       "      <th>2</th>\n",
       "      <td>right</td>\n",
       "      <td>type_2</td>\n",
       "      <td>green</td>\n",
       "      <td>-10.2982</td>\n",
       "      <td>-0.3714</td>\n",
       "      <td>-0.9886</td>\n",
       "      <td>-3.2219</td>\n",
       "      <td>4.0925</td>\n",
       "      <td>-0.8319</td>\n",
       "      <td>-3.0588</td>\n",
       "      <td>...</td>\n",
       "      <td>-1.4408</td>\n",
       "      <td>-2.5580</td>\n",
       "      <td>-1.2116</td>\n",
       "      <td>5.1098</td>\n",
       "      <td>-0.6747</td>\n",
       "      <td>-1.2528</td>\n",
       "      <td>-2.2944</td>\n",
       "      <td>-3.4745</td>\n",
       "      <td>2.8633</td>\n",
       "      <td>1.6737</td>\n",
       "    </tr>\n",
       "    <tr>\n",
       "      <th>3</th>\n",
       "      <td>right</td>\n",
       "      <td>type_1</td>\n",
       "      <td>red</td>\n",
       "      <td>-8.4566</td>\n",
       "      <td>-0.2408</td>\n",
       "      <td>-3.0342</td>\n",
       "      <td>2.9534</td>\n",
       "      <td>2.8977</td>\n",
       "      <td>0.8851</td>\n",
       "      <td>3.0113</td>\n",
       "      <td>...</td>\n",
       "      <td>0.9434</td>\n",
       "      <td>-0.8771</td>\n",
       "      <td>0.4143</td>\n",
       "      <td>4.3368</td>\n",
       "      <td>-11.2949</td>\n",
       "      <td>-7.4289</td>\n",
       "      <td>7.9900</td>\n",
       "      <td>-6.2433</td>\n",
       "      <td>1.6592</td>\n",
       "      <td>-4.8601</td>\n",
       "    </tr>\n",
       "    <tr>\n",
       "      <th>4</th>\n",
       "      <td>left</td>\n",
       "      <td>type_1</td>\n",
       "      <td>blue</td>\n",
       "      <td>4.2681</td>\n",
       "      <td>-2.2052</td>\n",
       "      <td>-5.9093</td>\n",
       "      <td>0.1036</td>\n",
       "      <td>1.8462</td>\n",
       "      <td>1.9801</td>\n",
       "      <td>2.1129</td>\n",
       "      <td>...</td>\n",
       "      <td>-0.2290</td>\n",
       "      <td>0.5390</td>\n",
       "      <td>0.7648</td>\n",
       "      <td>1.1348</td>\n",
       "      <td>1.9829</td>\n",
       "      <td>3.7682</td>\n",
       "      <td>-1.7092</td>\n",
       "      <td>1.4791</td>\n",
       "      <td>5.7732</td>\n",
       "      <td>-3.9106</td>\n",
       "    </tr>\n",
       "  </tbody>\n",
       "</table>\n",
       "<p>5 rows × 903 columns</p>\n",
       "</div>"
      ],
      "text/plain": [
       "     0       1      2        3       4       5       6       7       8    \\\n",
       "0  right  type_3  green   0.8827  3.2917  1.4651 -4.5278  1.0490  2.3398   \n",
       "1   left  type_2   blue   1.4458 -2.9575 -1.2341 -3.9684 -2.7645  5.6346   \n",
       "2  right  type_2  green -10.2982 -0.3714 -0.9886 -3.2219  4.0925 -0.8319   \n",
       "3  right  type_1    red  -8.4566 -0.2408 -3.0342  2.9534  2.8977  0.8851   \n",
       "4   left  type_1   blue   4.2681 -2.2052 -5.9093  0.1036  1.8462  1.9801   \n",
       "\n",
       "      9     ...       893     894     895     896      897     898     899  \\\n",
       "0  1.8729   ...    0.8854 -0.8752  0.2662  4.9686   2.5588 -0.6121 -3.3692   \n",
       "1  1.7838   ...   -4.3774 -2.2512 -1.6331  7.2724   1.7616  4.2826  5.5557   \n",
       "2 -3.0588   ...   -1.4408 -2.5580 -1.2116  5.1098  -0.6747 -1.2528 -2.2944   \n",
       "3  3.0113   ...    0.9434 -0.8771  0.4143  4.3368 -11.2949 -7.4289  7.9900   \n",
       "4  2.1129   ...   -0.2290  0.5390  0.7648  1.1348   1.9829  3.7682 -1.7092   \n",
       "\n",
       "      900     901     902  \n",
       "0  0.0550 -1.5296 -5.3041  \n",
       "1  1.0588  2.6734 -4.5224  \n",
       "2 -3.4745  2.8633  1.6737  \n",
       "3 -6.2433  1.6592 -4.8601  \n",
       "4  1.4791  5.7732 -3.9106  \n",
       "\n",
       "[5 rows x 903 columns]"
      ]
     },
     "execution_count": 320,
     "metadata": {},
     "output_type": "execute_result"
    },
    {
     "data": {
      "text/plain": [
       "(140, 903)"
      ]
     },
     "execution_count": 320,
     "metadata": {},
     "output_type": "execute_result"
    },
    {
     "data": {
      "text/html": [
       "<div>\n",
       "<style scoped>\n",
       "    .dataframe tbody tr th:only-of-type {\n",
       "        vertical-align: middle;\n",
       "    }\n",
       "\n",
       "    .dataframe tbody tr th {\n",
       "        vertical-align: top;\n",
       "    }\n",
       "\n",
       "    .dataframe thead th {\n",
       "        text-align: right;\n",
       "    }\n",
       "</style>\n",
       "<table border=\"1\" class=\"dataframe\">\n",
       "  <thead>\n",
       "    <tr style=\"text-align: right;\">\n",
       "      <th></th>\n",
       "      <th>0</th>\n",
       "    </tr>\n",
       "  </thead>\n",
       "  <tbody>\n",
       "    <tr>\n",
       "      <th>0</th>\n",
       "      <td>1</td>\n",
       "    </tr>\n",
       "    <tr>\n",
       "      <th>1</th>\n",
       "      <td>1</td>\n",
       "    </tr>\n",
       "    <tr>\n",
       "      <th>2</th>\n",
       "      <td>1</td>\n",
       "    </tr>\n",
       "    <tr>\n",
       "      <th>3</th>\n",
       "      <td>2</td>\n",
       "    </tr>\n",
       "    <tr>\n",
       "      <th>4</th>\n",
       "      <td>1</td>\n",
       "    </tr>\n",
       "  </tbody>\n",
       "</table>\n",
       "</div>"
      ],
      "text/plain": [
       "   0\n",
       "0  1\n",
       "1  1\n",
       "2  1\n",
       "3  2\n",
       "4  1"
      ]
     },
     "execution_count": 320,
     "metadata": {},
     "output_type": "execute_result"
    },
    {
     "data": {
      "text/plain": [
       "(140, 1)"
      ]
     },
     "execution_count": 320,
     "metadata": {},
     "output_type": "execute_result"
    }
   ],
   "source": [
    "df_train.head()\n",
    "df_train.shape\n",
    "\n",
    "df_trainlabels.head() \n",
    "df_trainlabels.shape"
   ]
  },
  {
   "cell_type": "markdown",
   "metadata": {},
   "source": [
    "\n",
    "Comments: \n",
    "140 training instances vs. 903 features - not good\n",
    "\n",
    "How to tackle this? - I've heard SVMs are good in this case. \n",
    "https://stats.stackexchange.com/questions/254574/svm-number-of-dimensions-greater-than-number-of-samples-would-give-good-or-bad?noredirect=1&lq=1\n",
    "\n",
    "For a baseline, I would want to try out logisitc regression as well. I need that CF matrix in the end for accuracy scores. \n",
    "\n",
    "But before that, let's look at the entire training data we have; and try to draw some conclusions - maybe PCA?\n",
    "\n",
    "    "
   ]
  },
  {
   "cell_type": "code",
   "execution_count": 321,
   "metadata": {
    "scrolled": false
   },
   "outputs": [
    {
     "name": "stdout",
     "output_type": "stream",
     "text": [
      "Number of numeric cols:  900\n",
      "Number of categorical cols:  3\n",
      "Categorical columns are:  [0, 1, 2]\n"
     ]
    }
   ],
   "source": [
    "# how many categorical data? - pdf says 3; let's verify - done \n",
    "cols = df_train.columns # all cols\n",
    "num_cols = df_train._get_numeric_data().columns # only numeric cols\n",
    "\n",
    "print(\"Number of numeric cols: \", len(num_cols))\n",
    "print(\"Number of categorical cols: \", len(list(set(cols) - set(num_cols))))\n",
    "print(\"Categorical columns are: \", list(set(cols) - set(num_cols)))"
   ]
  },
  {
   "cell_type": "code",
   "execution_count": 322,
   "metadata": {
    "scrolled": false
   },
   "outputs": [
    {
     "data": {
      "text/plain": [
       "left     79\n",
       "right    61\n",
       "Name: 0, dtype: int64"
      ]
     },
     "execution_count": 322,
     "metadata": {},
     "output_type": "execute_result"
    },
    {
     "data": {
      "text/plain": [
       "type_3    64\n",
       "type_1    44\n",
       "type_2    32\n",
       "Name: 1, dtype: int64"
      ]
     },
     "execution_count": 322,
     "metadata": {},
     "output_type": "execute_result"
    },
    {
     "data": {
      "text/plain": [
       "red      53\n",
       "green    51\n",
       "blue     36\n",
       "Name: 2, dtype: int64"
      ]
     },
     "execution_count": 322,
     "metadata": {},
     "output_type": "execute_result"
    }
   ],
   "source": [
    "# Exploring the categorical features - which seem to be not very well distributed \n",
    "df_train.iloc[:,0].value_counts()\n",
    "df_train.iloc[:,1].value_counts()\n",
    "df_train.iloc[:,2].value_counts()"
   ]
  },
  {
   "cell_type": "code",
   "execution_count": 323,
   "metadata": {
    "scrolled": false
   },
   "outputs": [
    {
     "name": "stdout",
     "output_type": "stream",
     "text": [
      "0\n"
     ]
    }
   ],
   "source": [
    "# Number of rows with any nans - 0\n",
    "print(len(pd.isnull(df_train).any(1).nonzero()[0]))"
   ]
  },
  {
   "cell_type": "code",
   "execution_count": 324,
   "metadata": {
    "scrolled": false
   },
   "outputs": [
    {
     "name": "stdout",
     "output_type": "stream",
     "text": [
      "1    82\n",
      "2    41\n",
      "0    17\n",
      "Name: 0, dtype: int64\n"
     ]
    }
   ],
   "source": [
    "print(df_trainlabels.iloc[:,0].value_counts())\n",
    "# okay, there's great class imbalance as well! - definitely, accuracy does not seem to be a good metric\n",
    "# but, accuracy seems to be the metric that will be used for testing "
   ]
  },
  {
   "cell_type": "code",
   "execution_count": 325,
   "metadata": {
    "scrolled": false
   },
   "outputs": [],
   "source": [
    "# Probably irrelevant: \n",
    "# aside 1: number of observations in class 2 = 0.5 (number of observations in class 1)\n",
    "# aside 2: number of type_2 = 0.5 (number of type_3)\n",
    "\n",
    "# I am also thinking of some clustering way to approach this "
   ]
  },
  {
   "cell_type": "code",
   "execution_count": 326,
   "metadata": {
    "scrolled": false
   },
   "outputs": [
    {
     "data": {
      "text/html": [
       "<div>\n",
       "<style scoped>\n",
       "    .dataframe tbody tr th:only-of-type {\n",
       "        vertical-align: middle;\n",
       "    }\n",
       "\n",
       "    .dataframe tbody tr th {\n",
       "        vertical-align: top;\n",
       "    }\n",
       "\n",
       "    .dataframe thead th {\n",
       "        text-align: right;\n",
       "    }\n",
       "</style>\n",
       "<table border=\"1\" class=\"dataframe\">\n",
       "  <thead>\n",
       "    <tr style=\"text-align: right;\">\n",
       "      <th></th>\n",
       "      <th>3</th>\n",
       "      <th>4</th>\n",
       "      <th>5</th>\n",
       "      <th>6</th>\n",
       "      <th>7</th>\n",
       "      <th>8</th>\n",
       "      <th>9</th>\n",
       "      <th>10</th>\n",
       "      <th>11</th>\n",
       "      <th>12</th>\n",
       "      <th>...</th>\n",
       "      <th>893</th>\n",
       "      <th>894</th>\n",
       "      <th>895</th>\n",
       "      <th>896</th>\n",
       "      <th>897</th>\n",
       "      <th>898</th>\n",
       "      <th>899</th>\n",
       "      <th>900</th>\n",
       "      <th>901</th>\n",
       "      <th>902</th>\n",
       "    </tr>\n",
       "  </thead>\n",
       "  <tbody>\n",
       "    <tr>\n",
       "      <th>count</th>\n",
       "      <td>140.000000</td>\n",
       "      <td>140.000000</td>\n",
       "      <td>140.000000</td>\n",
       "      <td>140.000000</td>\n",
       "      <td>140.000000</td>\n",
       "      <td>140.000000</td>\n",
       "      <td>140.000000</td>\n",
       "      <td>140.000000</td>\n",
       "      <td>140.000000</td>\n",
       "      <td>140.000000</td>\n",
       "      <td>...</td>\n",
       "      <td>140.000000</td>\n",
       "      <td>140.000000</td>\n",
       "      <td>140.000000</td>\n",
       "      <td>140.000000</td>\n",
       "      <td>140.000000</td>\n",
       "      <td>140.000000</td>\n",
       "      <td>140.000000</td>\n",
       "      <td>140.000000</td>\n",
       "      <td>140.000000</td>\n",
       "      <td>140.000000</td>\n",
       "    </tr>\n",
       "    <tr>\n",
       "      <th>mean</th>\n",
       "      <td>-3.706226</td>\n",
       "      <td>0.620541</td>\n",
       "      <td>-0.691226</td>\n",
       "      <td>-2.883438</td>\n",
       "      <td>0.798445</td>\n",
       "      <td>0.276561</td>\n",
       "      <td>0.382528</td>\n",
       "      <td>-0.890959</td>\n",
       "      <td>-1.694734</td>\n",
       "      <td>-0.719966</td>\n",
       "      <td>...</td>\n",
       "      <td>-1.508409</td>\n",
       "      <td>-1.576743</td>\n",
       "      <td>0.190566</td>\n",
       "      <td>0.665053</td>\n",
       "      <td>-0.774684</td>\n",
       "      <td>0.931779</td>\n",
       "      <td>0.791181</td>\n",
       "      <td>-0.458641</td>\n",
       "      <td>0.723416</td>\n",
       "      <td>-0.132218</td>\n",
       "    </tr>\n",
       "    <tr>\n",
       "      <th>std</th>\n",
       "      <td>4.064704</td>\n",
       "      <td>3.014747</td>\n",
       "      <td>3.295262</td>\n",
       "      <td>3.331956</td>\n",
       "      <td>3.484214</td>\n",
       "      <td>3.203680</td>\n",
       "      <td>3.114446</td>\n",
       "      <td>3.221021</td>\n",
       "      <td>3.639898</td>\n",
       "      <td>3.124935</td>\n",
       "      <td>...</td>\n",
       "      <td>3.125331</td>\n",
       "      <td>3.262723</td>\n",
       "      <td>3.429600</td>\n",
       "      <td>3.092077</td>\n",
       "      <td>3.462897</td>\n",
       "      <td>3.301253</td>\n",
       "      <td>3.131848</td>\n",
       "      <td>2.616963</td>\n",
       "      <td>3.382829</td>\n",
       "      <td>3.657816</td>\n",
       "    </tr>\n",
       "    <tr>\n",
       "      <th>min</th>\n",
       "      <td>-12.753200</td>\n",
       "      <td>-8.020900</td>\n",
       "      <td>-9.688800</td>\n",
       "      <td>-10.540100</td>\n",
       "      <td>-8.493400</td>\n",
       "      <td>-6.525400</td>\n",
       "      <td>-8.397000</td>\n",
       "      <td>-8.372300</td>\n",
       "      <td>-10.153200</td>\n",
       "      <td>-10.185400</td>\n",
       "      <td>...</td>\n",
       "      <td>-8.152700</td>\n",
       "      <td>-10.229800</td>\n",
       "      <td>-8.713400</td>\n",
       "      <td>-9.106600</td>\n",
       "      <td>-11.294900</td>\n",
       "      <td>-7.695700</td>\n",
       "      <td>-7.090500</td>\n",
       "      <td>-6.851600</td>\n",
       "      <td>-6.184400</td>\n",
       "      <td>-9.723500</td>\n",
       "    </tr>\n",
       "    <tr>\n",
       "      <th>25%</th>\n",
       "      <td>-6.393700</td>\n",
       "      <td>-1.665500</td>\n",
       "      <td>-2.625975</td>\n",
       "      <td>-5.215000</td>\n",
       "      <td>-1.934025</td>\n",
       "      <td>-1.833875</td>\n",
       "      <td>-1.871550</td>\n",
       "      <td>-2.941725</td>\n",
       "      <td>-3.986725</td>\n",
       "      <td>-2.876275</td>\n",
       "      <td>...</td>\n",
       "      <td>-3.739425</td>\n",
       "      <td>-3.837325</td>\n",
       "      <td>-2.248525</td>\n",
       "      <td>-1.361275</td>\n",
       "      <td>-3.141325</td>\n",
       "      <td>-0.960575</td>\n",
       "      <td>-1.299400</td>\n",
       "      <td>-2.491375</td>\n",
       "      <td>-1.769575</td>\n",
       "      <td>-2.728575</td>\n",
       "    </tr>\n",
       "    <tr>\n",
       "      <th>50%</th>\n",
       "      <td>-4.022400</td>\n",
       "      <td>0.559550</td>\n",
       "      <td>-0.651150</td>\n",
       "      <td>-3.022050</td>\n",
       "      <td>1.005600</td>\n",
       "      <td>0.309250</td>\n",
       "      <td>0.454450</td>\n",
       "      <td>-0.826550</td>\n",
       "      <td>-1.664150</td>\n",
       "      <td>-0.940650</td>\n",
       "      <td>...</td>\n",
       "      <td>-1.873850</td>\n",
       "      <td>-1.594600</td>\n",
       "      <td>0.274000</td>\n",
       "      <td>0.456750</td>\n",
       "      <td>-1.232550</td>\n",
       "      <td>1.210100</td>\n",
       "      <td>0.785650</td>\n",
       "      <td>-0.055900</td>\n",
       "      <td>0.350250</td>\n",
       "      <td>0.200050</td>\n",
       "    </tr>\n",
       "    <tr>\n",
       "      <th>75%</th>\n",
       "      <td>-0.860025</td>\n",
       "      <td>2.784550</td>\n",
       "      <td>1.432475</td>\n",
       "      <td>-0.441100</td>\n",
       "      <td>3.353100</td>\n",
       "      <td>2.432525</td>\n",
       "      <td>2.270475</td>\n",
       "      <td>1.324300</td>\n",
       "      <td>0.575900</td>\n",
       "      <td>1.441625</td>\n",
       "      <td>...</td>\n",
       "      <td>0.490925</td>\n",
       "      <td>0.554300</td>\n",
       "      <td>2.449825</td>\n",
       "      <td>2.790450</td>\n",
       "      <td>1.842575</td>\n",
       "      <td>3.121575</td>\n",
       "      <td>2.618375</td>\n",
       "      <td>1.136900</td>\n",
       "      <td>3.384000</td>\n",
       "      <td>2.175950</td>\n",
       "    </tr>\n",
       "    <tr>\n",
       "      <th>max</th>\n",
       "      <td>7.862500</td>\n",
       "      <td>9.077900</td>\n",
       "      <td>7.729800</td>\n",
       "      <td>5.230100</td>\n",
       "      <td>10.856000</td>\n",
       "      <td>8.125200</td>\n",
       "      <td>9.032900</td>\n",
       "      <td>8.249100</td>\n",
       "      <td>7.994100</td>\n",
       "      <td>7.576900</td>\n",
       "      <td>...</td>\n",
       "      <td>7.073000</td>\n",
       "      <td>6.822000</td>\n",
       "      <td>11.433600</td>\n",
       "      <td>9.259000</td>\n",
       "      <td>7.385900</td>\n",
       "      <td>12.639000</td>\n",
       "      <td>9.713000</td>\n",
       "      <td>5.019900</td>\n",
       "      <td>8.439900</td>\n",
       "      <td>9.632300</td>\n",
       "    </tr>\n",
       "  </tbody>\n",
       "</table>\n",
       "<p>8 rows × 900 columns</p>\n",
       "</div>"
      ],
      "text/plain": [
       "              3           4           5           6           7           8    \\\n",
       "count  140.000000  140.000000  140.000000  140.000000  140.000000  140.000000   \n",
       "mean    -3.706226    0.620541   -0.691226   -2.883438    0.798445    0.276561   \n",
       "std      4.064704    3.014747    3.295262    3.331956    3.484214    3.203680   \n",
       "min    -12.753200   -8.020900   -9.688800  -10.540100   -8.493400   -6.525400   \n",
       "25%     -6.393700   -1.665500   -2.625975   -5.215000   -1.934025   -1.833875   \n",
       "50%     -4.022400    0.559550   -0.651150   -3.022050    1.005600    0.309250   \n",
       "75%     -0.860025    2.784550    1.432475   -0.441100    3.353100    2.432525   \n",
       "max      7.862500    9.077900    7.729800    5.230100   10.856000    8.125200   \n",
       "\n",
       "              9           10          11          12      ...             893  \\\n",
       "count  140.000000  140.000000  140.000000  140.000000     ...      140.000000   \n",
       "mean     0.382528   -0.890959   -1.694734   -0.719966     ...       -1.508409   \n",
       "std      3.114446    3.221021    3.639898    3.124935     ...        3.125331   \n",
       "min     -8.397000   -8.372300  -10.153200  -10.185400     ...       -8.152700   \n",
       "25%     -1.871550   -2.941725   -3.986725   -2.876275     ...       -3.739425   \n",
       "50%      0.454450   -0.826550   -1.664150   -0.940650     ...       -1.873850   \n",
       "75%      2.270475    1.324300    0.575900    1.441625     ...        0.490925   \n",
       "max      9.032900    8.249100    7.994100    7.576900     ...        7.073000   \n",
       "\n",
       "              894         895         896         897         898         899  \\\n",
       "count  140.000000  140.000000  140.000000  140.000000  140.000000  140.000000   \n",
       "mean    -1.576743    0.190566    0.665053   -0.774684    0.931779    0.791181   \n",
       "std      3.262723    3.429600    3.092077    3.462897    3.301253    3.131848   \n",
       "min    -10.229800   -8.713400   -9.106600  -11.294900   -7.695700   -7.090500   \n",
       "25%     -3.837325   -2.248525   -1.361275   -3.141325   -0.960575   -1.299400   \n",
       "50%     -1.594600    0.274000    0.456750   -1.232550    1.210100    0.785650   \n",
       "75%      0.554300    2.449825    2.790450    1.842575    3.121575    2.618375   \n",
       "max      6.822000   11.433600    9.259000    7.385900   12.639000    9.713000   \n",
       "\n",
       "              900         901         902  \n",
       "count  140.000000  140.000000  140.000000  \n",
       "mean    -0.458641    0.723416   -0.132218  \n",
       "std      2.616963    3.382829    3.657816  \n",
       "min     -6.851600   -6.184400   -9.723500  \n",
       "25%     -2.491375   -1.769575   -2.728575  \n",
       "50%     -0.055900    0.350250    0.200050  \n",
       "75%      1.136900    3.384000    2.175950  \n",
       "max      5.019900    8.439900    9.632300  \n",
       "\n",
       "[8 rows x 900 columns]"
      ]
     },
     "execution_count": 326,
     "metadata": {},
     "output_type": "execute_result"
    }
   ],
   "source": [
    "df_train.describe() # looks like none of them are mean centered and scaled "
   ]
  },
  {
   "cell_type": "code",
   "execution_count": 327,
   "metadata": {
    "scrolled": false
   },
   "outputs": [],
   "source": [
    "# I don't think we can afford to drop any more training instances - considering we are starting this off with \n",
    "# too less. And I am not sure of the domain from which the dataset is obtained - so I cannot blindly remove outliers"
   ]
  },
  {
   "cell_type": "code",
   "execution_count": 328,
   "metadata": {
    "scrolled": false
   },
   "outputs": [],
   "source": [
    "# get just the numerical data to see feature-feature relations\n",
    "df_train_num = df_train.iloc[:, 3:]\n",
    "\n",
    "# get just the categorical data for dummy encoding\n",
    "df_train_cat = pd.concat([df_train.iloc[:,0], df_train.iloc[:,1], df_train.iloc[:,2]], axis=1)\n",
    "dummy_train = pd.get_dummies(data=df_train_cat, drop_first=True)\n",
    "df_train_dum_num = pd.concat([pd.DataFrame(df_train_num), dummy_train], axis=1)\n",
    "\n",
    "# df_train_dum_num - means dummy and numeric - this will be used for algorithms "
   ]
  },
  {
   "cell_type": "code",
   "execution_count": 329,
   "metadata": {
    "scrolled": false
   },
   "outputs": [
    {
     "data": {
      "text/html": [
       "<div>\n",
       "<style scoped>\n",
       "    .dataframe tbody tr th:only-of-type {\n",
       "        vertical-align: middle;\n",
       "    }\n",
       "\n",
       "    .dataframe tbody tr th {\n",
       "        vertical-align: top;\n",
       "    }\n",
       "\n",
       "    .dataframe thead th {\n",
       "        text-align: right;\n",
       "    }\n",
       "</style>\n",
       "<table border=\"1\" class=\"dataframe\">\n",
       "  <thead>\n",
       "    <tr style=\"text-align: right;\">\n",
       "      <th></th>\n",
       "      <th>3</th>\n",
       "      <th>4</th>\n",
       "      <th>5</th>\n",
       "      <th>6</th>\n",
       "      <th>7</th>\n",
       "      <th>8</th>\n",
       "      <th>9</th>\n",
       "      <th>10</th>\n",
       "      <th>11</th>\n",
       "      <th>12</th>\n",
       "      <th>...</th>\n",
       "      <th>893</th>\n",
       "      <th>894</th>\n",
       "      <th>895</th>\n",
       "      <th>896</th>\n",
       "      <th>897</th>\n",
       "      <th>898</th>\n",
       "      <th>899</th>\n",
       "      <th>900</th>\n",
       "      <th>901</th>\n",
       "      <th>902</th>\n",
       "    </tr>\n",
       "  </thead>\n",
       "  <tbody>\n",
       "    <tr>\n",
       "      <th>0</th>\n",
       "      <td>0.8827</td>\n",
       "      <td>3.2917</td>\n",
       "      <td>1.4651</td>\n",
       "      <td>-4.5278</td>\n",
       "      <td>1.0490</td>\n",
       "      <td>2.3398</td>\n",
       "      <td>1.8729</td>\n",
       "      <td>8.2491</td>\n",
       "      <td>-5.5911</td>\n",
       "      <td>-2.6069</td>\n",
       "      <td>...</td>\n",
       "      <td>0.8854</td>\n",
       "      <td>-0.8752</td>\n",
       "      <td>0.2662</td>\n",
       "      <td>4.9686</td>\n",
       "      <td>2.5588</td>\n",
       "      <td>-0.6121</td>\n",
       "      <td>-3.3692</td>\n",
       "      <td>0.0550</td>\n",
       "      <td>-1.5296</td>\n",
       "      <td>-5.3041</td>\n",
       "    </tr>\n",
       "    <tr>\n",
       "      <th>1</th>\n",
       "      <td>1.4458</td>\n",
       "      <td>-2.9575</td>\n",
       "      <td>-1.2341</td>\n",
       "      <td>-3.9684</td>\n",
       "      <td>-2.7645</td>\n",
       "      <td>5.6346</td>\n",
       "      <td>1.7838</td>\n",
       "      <td>-1.3137</td>\n",
       "      <td>-8.7433</td>\n",
       "      <td>-1.8233</td>\n",
       "      <td>...</td>\n",
       "      <td>-4.3774</td>\n",
       "      <td>-2.2512</td>\n",
       "      <td>-1.6331</td>\n",
       "      <td>7.2724</td>\n",
       "      <td>1.7616</td>\n",
       "      <td>4.2826</td>\n",
       "      <td>5.5557</td>\n",
       "      <td>1.0588</td>\n",
       "      <td>2.6734</td>\n",
       "      <td>-4.5224</td>\n",
       "    </tr>\n",
       "    <tr>\n",
       "      <th>2</th>\n",
       "      <td>-10.2982</td>\n",
       "      <td>-0.3714</td>\n",
       "      <td>-0.9886</td>\n",
       "      <td>-3.2219</td>\n",
       "      <td>4.0925</td>\n",
       "      <td>-0.8319</td>\n",
       "      <td>-3.0588</td>\n",
       "      <td>0.9756</td>\n",
       "      <td>-1.1602</td>\n",
       "      <td>2.2440</td>\n",
       "      <td>...</td>\n",
       "      <td>-1.4408</td>\n",
       "      <td>-2.5580</td>\n",
       "      <td>-1.2116</td>\n",
       "      <td>5.1098</td>\n",
       "      <td>-0.6747</td>\n",
       "      <td>-1.2528</td>\n",
       "      <td>-2.2944</td>\n",
       "      <td>-3.4745</td>\n",
       "      <td>2.8633</td>\n",
       "      <td>1.6737</td>\n",
       "    </tr>\n",
       "    <tr>\n",
       "      <th>3</th>\n",
       "      <td>-8.4566</td>\n",
       "      <td>-0.2408</td>\n",
       "      <td>-3.0342</td>\n",
       "      <td>2.9534</td>\n",
       "      <td>2.8977</td>\n",
       "      <td>0.8851</td>\n",
       "      <td>3.0113</td>\n",
       "      <td>-0.3131</td>\n",
       "      <td>-3.3378</td>\n",
       "      <td>0.1249</td>\n",
       "      <td>...</td>\n",
       "      <td>0.9434</td>\n",
       "      <td>-0.8771</td>\n",
       "      <td>0.4143</td>\n",
       "      <td>4.3368</td>\n",
       "      <td>-11.2949</td>\n",
       "      <td>-7.4289</td>\n",
       "      <td>7.9900</td>\n",
       "      <td>-6.2433</td>\n",
       "      <td>1.6592</td>\n",
       "      <td>-4.8601</td>\n",
       "    </tr>\n",
       "    <tr>\n",
       "      <th>4</th>\n",
       "      <td>4.2681</td>\n",
       "      <td>-2.2052</td>\n",
       "      <td>-5.9093</td>\n",
       "      <td>0.1036</td>\n",
       "      <td>1.8462</td>\n",
       "      <td>1.9801</td>\n",
       "      <td>2.1129</td>\n",
       "      <td>1.7652</td>\n",
       "      <td>-3.3829</td>\n",
       "      <td>-0.6176</td>\n",
       "      <td>...</td>\n",
       "      <td>-0.2290</td>\n",
       "      <td>0.5390</td>\n",
       "      <td>0.7648</td>\n",
       "      <td>1.1348</td>\n",
       "      <td>1.9829</td>\n",
       "      <td>3.7682</td>\n",
       "      <td>-1.7092</td>\n",
       "      <td>1.4791</td>\n",
       "      <td>5.7732</td>\n",
       "      <td>-3.9106</td>\n",
       "    </tr>\n",
       "  </tbody>\n",
       "</table>\n",
       "<p>5 rows × 900 columns</p>\n",
       "</div>"
      ],
      "text/plain": [
       "       3       4       5       6       7       8       9       10      11   \\\n",
       "0   0.8827  3.2917  1.4651 -4.5278  1.0490  2.3398  1.8729  8.2491 -5.5911   \n",
       "1   1.4458 -2.9575 -1.2341 -3.9684 -2.7645  5.6346  1.7838 -1.3137 -8.7433   \n",
       "2 -10.2982 -0.3714 -0.9886 -3.2219  4.0925 -0.8319 -3.0588  0.9756 -1.1602   \n",
       "3  -8.4566 -0.2408 -3.0342  2.9534  2.8977  0.8851  3.0113 -0.3131 -3.3378   \n",
       "4   4.2681 -2.2052 -5.9093  0.1036  1.8462  1.9801  2.1129  1.7652 -3.3829   \n",
       "\n",
       "      12    ...       893     894     895     896      897     898     899  \\\n",
       "0 -2.6069   ...    0.8854 -0.8752  0.2662  4.9686   2.5588 -0.6121 -3.3692   \n",
       "1 -1.8233   ...   -4.3774 -2.2512 -1.6331  7.2724   1.7616  4.2826  5.5557   \n",
       "2  2.2440   ...   -1.4408 -2.5580 -1.2116  5.1098  -0.6747 -1.2528 -2.2944   \n",
       "3  0.1249   ...    0.9434 -0.8771  0.4143  4.3368 -11.2949 -7.4289  7.9900   \n",
       "4 -0.6176   ...   -0.2290  0.5390  0.7648  1.1348   1.9829  3.7682 -1.7092   \n",
       "\n",
       "      900     901     902  \n",
       "0  0.0550 -1.5296 -5.3041  \n",
       "1  1.0588  2.6734 -4.5224  \n",
       "2 -3.4745  2.8633  1.6737  \n",
       "3 -6.2433  1.6592 -4.8601  \n",
       "4  1.4791  5.7732 -3.9106  \n",
       "\n",
       "[5 rows x 900 columns]"
      ]
     },
     "execution_count": 329,
     "metadata": {},
     "output_type": "execute_result"
    },
    {
     "data": {
      "text/plain": [
       "(140, 900)"
      ]
     },
     "execution_count": 329,
     "metadata": {},
     "output_type": "execute_result"
    },
    {
     "data": {
      "text/html": [
       "<div>\n",
       "<style scoped>\n",
       "    .dataframe tbody tr th:only-of-type {\n",
       "        vertical-align: middle;\n",
       "    }\n",
       "\n",
       "    .dataframe tbody tr th {\n",
       "        vertical-align: top;\n",
       "    }\n",
       "\n",
       "    .dataframe thead th {\n",
       "        text-align: right;\n",
       "    }\n",
       "</style>\n",
       "<table border=\"1\" class=\"dataframe\">\n",
       "  <thead>\n",
       "    <tr style=\"text-align: right;\">\n",
       "      <th></th>\n",
       "      <th>0</th>\n",
       "      <th>1</th>\n",
       "      <th>2</th>\n",
       "    </tr>\n",
       "  </thead>\n",
       "  <tbody>\n",
       "    <tr>\n",
       "      <th>0</th>\n",
       "      <td>right</td>\n",
       "      <td>type_3</td>\n",
       "      <td>green</td>\n",
       "    </tr>\n",
       "    <tr>\n",
       "      <th>1</th>\n",
       "      <td>left</td>\n",
       "      <td>type_2</td>\n",
       "      <td>blue</td>\n",
       "    </tr>\n",
       "    <tr>\n",
       "      <th>2</th>\n",
       "      <td>right</td>\n",
       "      <td>type_2</td>\n",
       "      <td>green</td>\n",
       "    </tr>\n",
       "    <tr>\n",
       "      <th>3</th>\n",
       "      <td>right</td>\n",
       "      <td>type_1</td>\n",
       "      <td>red</td>\n",
       "    </tr>\n",
       "    <tr>\n",
       "      <th>4</th>\n",
       "      <td>left</td>\n",
       "      <td>type_1</td>\n",
       "      <td>blue</td>\n",
       "    </tr>\n",
       "  </tbody>\n",
       "</table>\n",
       "</div>"
      ],
      "text/plain": [
       "       0       1      2\n",
       "0  right  type_3  green\n",
       "1   left  type_2   blue\n",
       "2  right  type_2  green\n",
       "3  right  type_1    red\n",
       "4   left  type_1   blue"
      ]
     },
     "execution_count": 329,
     "metadata": {},
     "output_type": "execute_result"
    },
    {
     "data": {
      "text/plain": [
       "(140, 3)"
      ]
     },
     "execution_count": 329,
     "metadata": {},
     "output_type": "execute_result"
    },
    {
     "data": {
      "text/html": [
       "<div>\n",
       "<style scoped>\n",
       "    .dataframe tbody tr th:only-of-type {\n",
       "        vertical-align: middle;\n",
       "    }\n",
       "\n",
       "    .dataframe tbody tr th {\n",
       "        vertical-align: top;\n",
       "    }\n",
       "\n",
       "    .dataframe thead th {\n",
       "        text-align: right;\n",
       "    }\n",
       "</style>\n",
       "<table border=\"1\" class=\"dataframe\">\n",
       "  <thead>\n",
       "    <tr style=\"text-align: right;\">\n",
       "      <th></th>\n",
       "      <th>3</th>\n",
       "      <th>4</th>\n",
       "      <th>5</th>\n",
       "      <th>6</th>\n",
       "      <th>7</th>\n",
       "      <th>8</th>\n",
       "      <th>9</th>\n",
       "      <th>10</th>\n",
       "      <th>11</th>\n",
       "      <th>12</th>\n",
       "      <th>...</th>\n",
       "      <th>898</th>\n",
       "      <th>899</th>\n",
       "      <th>900</th>\n",
       "      <th>901</th>\n",
       "      <th>902</th>\n",
       "      <th>0_right</th>\n",
       "      <th>1_type_2</th>\n",
       "      <th>1_type_3</th>\n",
       "      <th>2_green</th>\n",
       "      <th>2_red</th>\n",
       "    </tr>\n",
       "  </thead>\n",
       "  <tbody>\n",
       "    <tr>\n",
       "      <th>0</th>\n",
       "      <td>0.8827</td>\n",
       "      <td>3.2917</td>\n",
       "      <td>1.4651</td>\n",
       "      <td>-4.5278</td>\n",
       "      <td>1.0490</td>\n",
       "      <td>2.3398</td>\n",
       "      <td>1.8729</td>\n",
       "      <td>8.2491</td>\n",
       "      <td>-5.5911</td>\n",
       "      <td>-2.6069</td>\n",
       "      <td>...</td>\n",
       "      <td>-0.6121</td>\n",
       "      <td>-3.3692</td>\n",
       "      <td>0.0550</td>\n",
       "      <td>-1.5296</td>\n",
       "      <td>-5.3041</td>\n",
       "      <td>1</td>\n",
       "      <td>0</td>\n",
       "      <td>1</td>\n",
       "      <td>1</td>\n",
       "      <td>0</td>\n",
       "    </tr>\n",
       "    <tr>\n",
       "      <th>1</th>\n",
       "      <td>1.4458</td>\n",
       "      <td>-2.9575</td>\n",
       "      <td>-1.2341</td>\n",
       "      <td>-3.9684</td>\n",
       "      <td>-2.7645</td>\n",
       "      <td>5.6346</td>\n",
       "      <td>1.7838</td>\n",
       "      <td>-1.3137</td>\n",
       "      <td>-8.7433</td>\n",
       "      <td>-1.8233</td>\n",
       "      <td>...</td>\n",
       "      <td>4.2826</td>\n",
       "      <td>5.5557</td>\n",
       "      <td>1.0588</td>\n",
       "      <td>2.6734</td>\n",
       "      <td>-4.5224</td>\n",
       "      <td>0</td>\n",
       "      <td>1</td>\n",
       "      <td>0</td>\n",
       "      <td>0</td>\n",
       "      <td>0</td>\n",
       "    </tr>\n",
       "    <tr>\n",
       "      <th>2</th>\n",
       "      <td>-10.2982</td>\n",
       "      <td>-0.3714</td>\n",
       "      <td>-0.9886</td>\n",
       "      <td>-3.2219</td>\n",
       "      <td>4.0925</td>\n",
       "      <td>-0.8319</td>\n",
       "      <td>-3.0588</td>\n",
       "      <td>0.9756</td>\n",
       "      <td>-1.1602</td>\n",
       "      <td>2.2440</td>\n",
       "      <td>...</td>\n",
       "      <td>-1.2528</td>\n",
       "      <td>-2.2944</td>\n",
       "      <td>-3.4745</td>\n",
       "      <td>2.8633</td>\n",
       "      <td>1.6737</td>\n",
       "      <td>1</td>\n",
       "      <td>1</td>\n",
       "      <td>0</td>\n",
       "      <td>1</td>\n",
       "      <td>0</td>\n",
       "    </tr>\n",
       "    <tr>\n",
       "      <th>3</th>\n",
       "      <td>-8.4566</td>\n",
       "      <td>-0.2408</td>\n",
       "      <td>-3.0342</td>\n",
       "      <td>2.9534</td>\n",
       "      <td>2.8977</td>\n",
       "      <td>0.8851</td>\n",
       "      <td>3.0113</td>\n",
       "      <td>-0.3131</td>\n",
       "      <td>-3.3378</td>\n",
       "      <td>0.1249</td>\n",
       "      <td>...</td>\n",
       "      <td>-7.4289</td>\n",
       "      <td>7.9900</td>\n",
       "      <td>-6.2433</td>\n",
       "      <td>1.6592</td>\n",
       "      <td>-4.8601</td>\n",
       "      <td>1</td>\n",
       "      <td>0</td>\n",
       "      <td>0</td>\n",
       "      <td>0</td>\n",
       "      <td>1</td>\n",
       "    </tr>\n",
       "    <tr>\n",
       "      <th>4</th>\n",
       "      <td>4.2681</td>\n",
       "      <td>-2.2052</td>\n",
       "      <td>-5.9093</td>\n",
       "      <td>0.1036</td>\n",
       "      <td>1.8462</td>\n",
       "      <td>1.9801</td>\n",
       "      <td>2.1129</td>\n",
       "      <td>1.7652</td>\n",
       "      <td>-3.3829</td>\n",
       "      <td>-0.6176</td>\n",
       "      <td>...</td>\n",
       "      <td>3.7682</td>\n",
       "      <td>-1.7092</td>\n",
       "      <td>1.4791</td>\n",
       "      <td>5.7732</td>\n",
       "      <td>-3.9106</td>\n",
       "      <td>0</td>\n",
       "      <td>0</td>\n",
       "      <td>0</td>\n",
       "      <td>0</td>\n",
       "      <td>0</td>\n",
       "    </tr>\n",
       "  </tbody>\n",
       "</table>\n",
       "<p>5 rows × 905 columns</p>\n",
       "</div>"
      ],
      "text/plain": [
       "         3       4       5       6       7       8       9      10      11  \\\n",
       "0   0.8827  3.2917  1.4651 -4.5278  1.0490  2.3398  1.8729  8.2491 -5.5911   \n",
       "1   1.4458 -2.9575 -1.2341 -3.9684 -2.7645  5.6346  1.7838 -1.3137 -8.7433   \n",
       "2 -10.2982 -0.3714 -0.9886 -3.2219  4.0925 -0.8319 -3.0588  0.9756 -1.1602   \n",
       "3  -8.4566 -0.2408 -3.0342  2.9534  2.8977  0.8851  3.0113 -0.3131 -3.3378   \n",
       "4   4.2681 -2.2052 -5.9093  0.1036  1.8462  1.9801  2.1129  1.7652 -3.3829   \n",
       "\n",
       "       12  ...       898     899     900     901     902  0_right  1_type_2  \\\n",
       "0 -2.6069  ...   -0.6121 -3.3692  0.0550 -1.5296 -5.3041        1         0   \n",
       "1 -1.8233  ...    4.2826  5.5557  1.0588  2.6734 -4.5224        0         1   \n",
       "2  2.2440  ...   -1.2528 -2.2944 -3.4745  2.8633  1.6737        1         1   \n",
       "3  0.1249  ...   -7.4289  7.9900 -6.2433  1.6592 -4.8601        1         0   \n",
       "4 -0.6176  ...    3.7682 -1.7092  1.4791  5.7732 -3.9106        0         0   \n",
       "\n",
       "   1_type_3  2_green  2_red  \n",
       "0         1        1      0  \n",
       "1         0        0      0  \n",
       "2         0        1      0  \n",
       "3         0        0      1  \n",
       "4         0        0      0  \n",
       "\n",
       "[5 rows x 905 columns]"
      ]
     },
     "execution_count": 329,
     "metadata": {},
     "output_type": "execute_result"
    },
    {
     "data": {
      "text/plain": [
       "(140, 905)"
      ]
     },
     "execution_count": 329,
     "metadata": {},
     "output_type": "execute_result"
    }
   ],
   "source": [
    "df_train_num.head() \n",
    "df_train_num.shape\n",
    "\n",
    "df_train_cat.head() \n",
    "df_train_cat.shape\n",
    "\n",
    "df_train_dum_num.head()\n",
    "df_train_dum_num.shape"
   ]
  },
  {
   "cell_type": "code",
   "execution_count": 330,
   "metadata": {
    "scrolled": false
   },
   "outputs": [
    {
     "name": "stdout",
     "output_type": "stream",
     "text": [
      "Top Absolute Correlations\n",
      "114  521    0.707406\n",
      "196  706    0.695832\n",
      "521  673    0.685811\n",
      "196  521    0.683070\n",
      "546  885    0.661276\n",
      "521  706    0.659726\n",
      "655  706    0.659677\n",
      "196  356    0.658433\n",
      "     636    0.654817\n",
      "521  760    0.649669\n",
      "114  673    0.648137\n",
      "216  521    0.647940\n",
      "521  655    0.647751\n",
      "18   521    0.647167\n",
      "145  196    0.646526\n",
      "706  849    0.646285\n",
      "114  145    0.641638\n",
      "196  216    0.641533\n",
      "356  835    0.640612\n",
      "145  706    0.639636\n",
      "dtype: float64\n"
     ]
    }
   ],
   "source": [
    "# Explore correlations between features - nothing stands out. 0.707 is high correlation - PCA would be able to \n",
    "# weed it out; but, we would definitely lose the interpretability of the features. \n",
    "\n",
    "corr = df_train_num.corr()\n",
    "\n",
    "def get_redundant_pairs(df):\n",
    "    pairs_to_drop = set()\n",
    "    cols = df.columns\n",
    "    for i in range(0, df.shape[1]):\n",
    "        for j in range(0, i+1):\n",
    "            pairs_to_drop.add((cols[i], cols[j]))\n",
    "    return pairs_to_drop\n",
    "\n",
    "def get_top_abs_correlations(df, n=5):\n",
    "    au_corr = df.corr().abs().unstack()\n",
    "    labels_to_drop = get_redundant_pairs(df)\n",
    "    au_corr = au_corr.drop(labels=labels_to_drop).sort_values(ascending=False)\n",
    "    return au_corr[0:n]\n",
    "\n",
    "print(\"Top Absolute Correlations\")\n",
    "corr_stats = get_top_abs_correlations(df_train_num, 20) \n",
    "print(corr_stats)"
   ]
  },
  {
   "cell_type": "code",
   "execution_count": 413,
   "metadata": {
    "scrolled": true
   },
   "outputs": [
    {
     "name": "stdout",
     "output_type": "stream",
     "text": [
      "(140, 116)\n"
     ]
    },
    {
     "data": {
      "image/png": "[encoded data removed]",
      "text/plain": [
       "<Figure size 1008x1008 with 1 Axes>"
      ]
     },
     "metadata": {
      "needs_background": "light"
     },
     "output_type": "display_data"
    }
   ],
   "source": [
    "# trying out PCA to see if the classes are separable - see graph at the end \n",
    "\n",
    "InteractiveShell.ast_node_interactivity = \"last_expr\"\n",
    "\n",
    "scaler = StandardScaler()\n",
    "df_train_dum_num[df_train_dum_num.columns] = scaler.fit_transform(df_train_dum_num[df_train_dum_num.columns])\n",
    "pca = PCA(n_components=0.95, svd_solver='full') # we can have 95% variance explained when we transform?\n",
    "df_train_dum_num_transformed = pca.fit_transform(df_train_dum_num) # this is a numpy ndarray\n",
    "\n",
    "print(df_train_dum_num_transformed.shape) \n",
    "\n",
    "fig, ax = plt.subplots(figsize=(14,14))\n",
    "ax.scatter(df_train_dum_num_transformed[:, 0], df_train_dum_num_transformed[:, 1], marker='o', alpha=0.4)\n",
    "\n",
    "x = df_train_dum_num_transformed[:, 0]\n",
    "y = df_train_dum_num_transformed[:, 1]\n",
    "\n",
    "for i, lbl in enumerate(df_trainlabels.iloc[:, 0]):\n",
    "    ax.annotate(lbl, (x[i], y[i]))"
   ]
  },
  {
   "cell_type": "code",
   "execution_count": 500,
   "metadata": {},
   "outputs": [
    {
     "data": {
      "text/plain": [
       "<matplotlib.collections.PathCollection at 0x7f0663aa07b8>"
      ]
     },
     "execution_count": 500,
     "metadata": {},
     "output_type": "execute_result"
    },
    {
     "data": {
      "text/plain": [
       "Text(-6.07009,8.44857,'1')"
      ]
     },
     "execution_count": 500,
     "metadata": {},
     "output_type": "execute_result"
    },
    {
     "data": {
      "text/plain": [
       "Text(-4.5899,-0.0589354,'1')"
      ]
     },
     "execution_count": 500,
     "metadata": {},
     "output_type": "execute_result"
    },
    {
     "data": {
      "text/plain": [
       "Text(-2.21801,1.43956,'1')"
      ]
     },
     "execution_count": 500,
     "metadata": {},
     "output_type": "execute_result"
    },
    {
     "data": {
      "text/plain": [
       "Text(0.161299,-4.77429,'2')"
      ]
     },
     "execution_count": 500,
     "metadata": {},
     "output_type": "execute_result"
    },
    {
     "data": {
      "text/plain": [
       "Text(-4.68553,-2.60328,'1')"
      ]
     },
     "execution_count": 500,
     "metadata": {},
     "output_type": "execute_result"
    },
    {
     "data": {
      "text/plain": [
       "Text(-0.837197,-5.31349,'2')"
      ]
     },
     "execution_count": 500,
     "metadata": {},
     "output_type": "execute_result"
    },
    {
     "data": {
      "text/plain": [
       "Text(0.669968,0.821333,'0')"
      ]
     },
     "execution_count": 500,
     "metadata": {},
     "output_type": "execute_result"
    },
    {
     "data": {
      "text/plain": [
       "Text(-4.1738,-3.11401,'1')"
      ]
     },
     "execution_count": 500,
     "metadata": {},
     "output_type": "execute_result"
    },
    {
     "data": {
      "text/plain": [
       "Text(-1.2231,5.84375,'2')"
      ]
     },
     "execution_count": 500,
     "metadata": {},
     "output_type": "execute_result"
    },
    {
     "data": {
      "text/plain": [
       "Text(-0.316958,5.74578,'1')"
      ]
     },
     "execution_count": 500,
     "metadata": {},
     "output_type": "execute_result"
    },
    {
     "data": {
      "text/plain": [
       "Text(18.5012,0.444561,'1')"
      ]
     },
     "execution_count": 500,
     "metadata": {},
     "output_type": "execute_result"
    },
    {
     "data": {
      "text/plain": [
       "Text(-1.78792,4.61171,'1')"
      ]
     },
     "execution_count": 500,
     "metadata": {},
     "output_type": "execute_result"
    },
    {
     "data": {
      "text/plain": [
       "Text(-3.38493,3.31512,'1')"
      ]
     },
     "execution_count": 500,
     "metadata": {},
     "output_type": "execute_result"
    },
    {
     "data": {
      "text/plain": [
       "Text(0.302393,-0.293451,'1')"
      ]
     },
     "execution_count": 500,
     "metadata": {},
     "output_type": "execute_result"
    },
    {
     "data": {
      "text/plain": [
       "Text(-5.49821,-3.2763,'2')"
      ]
     },
     "execution_count": 500,
     "metadata": {},
     "output_type": "execute_result"
    },
    {
     "data": {
      "text/plain": [
       "Text(-1.70022,3.62253,'2')"
      ]
     },
     "execution_count": 500,
     "metadata": {},
     "output_type": "execute_result"
    },
    {
     "data": {
      "text/plain": [
       "Text(-4.94947,-3.58935,'1')"
      ]
     },
     "execution_count": 500,
     "metadata": {},
     "output_type": "execute_result"
    },
    {
     "data": {
      "text/plain": [
       "Text(-0.642046,3.84117,'2')"
      ]
     },
     "execution_count": 500,
     "metadata": {},
     "output_type": "execute_result"
    },
    {
     "data": {
      "text/plain": [
       "Text(-1.31781,-1.27875,'2')"
      ]
     },
     "execution_count": 500,
     "metadata": {},
     "output_type": "execute_result"
    },
    {
     "data": {
      "text/plain": [
       "Text(-5.63552,-4.14723,'2')"
      ]
     },
     "execution_count": 500,
     "metadata": {},
     "output_type": "execute_result"
    },
    {
     "data": {
      "text/plain": [
       "Text(-3.72242,-2.30412,'2')"
      ]
     },
     "execution_count": 500,
     "metadata": {},
     "output_type": "execute_result"
    },
    {
     "data": {
      "text/plain": [
       "Text(-1.3659,-0.427362,'2')"
      ]
     },
     "execution_count": 500,
     "metadata": {},
     "output_type": "execute_result"
    },
    {
     "data": {
      "text/plain": [
       "Text(1.73463,-0.625446,'2')"
      ]
     },
     "execution_count": 500,
     "metadata": {},
     "output_type": "execute_result"
    },
    {
     "data": {
      "text/plain": [
       "Text(-1.63437,0.400871,'2')"
      ]
     },
     "execution_count": 500,
     "metadata": {},
     "output_type": "execute_result"
    },
    {
     "data": {
      "text/plain": [
       "Text(-2.16699,-2.83044,'0')"
      ]
     },
     "execution_count": 500,
     "metadata": {},
     "output_type": "execute_result"
    },
    {
     "data": {
      "text/plain": [
       "Text(19.9571,1.93715,'0')"
      ]
     },
     "execution_count": 500,
     "metadata": {},
     "output_type": "execute_result"
    },
    {
     "data": {
      "text/plain": [
       "Text(-1.53132,-1.49131,'1')"
      ]
     },
     "execution_count": 500,
     "metadata": {},
     "output_type": "execute_result"
    },
    {
     "data": {
      "text/plain": [
       "Text(-2.22924,-0.0863234,'1')"
      ]
     },
     "execution_count": 500,
     "metadata": {},
     "output_type": "execute_result"
    },
    {
     "data": {
      "text/plain": [
       "Text(-5.22265,2.06128,'2')"
      ]
     },
     "execution_count": 500,
     "metadata": {},
     "output_type": "execute_result"
    },
    {
     "data": {
      "text/plain": [
       "Text(-0.192748,2.86842,'1')"
      ]
     },
     "execution_count": 500,
     "metadata": {},
     "output_type": "execute_result"
    },
    {
     "data": {
      "text/plain": [
       "Text(-1.15633,1.6514,'1')"
      ]
     },
     "execution_count": 500,
     "metadata": {},
     "output_type": "execute_result"
    },
    {
     "data": {
      "text/plain": [
       "Text(-1.96092,-2.9864,'0')"
      ]
     },
     "execution_count": 500,
     "metadata": {},
     "output_type": "execute_result"
    },
    {
     "data": {
      "text/plain": [
       "Text(18.8694,-2.34556,'2')"
      ]
     },
     "execution_count": 500,
     "metadata": {},
     "output_type": "execute_result"
    },
    {
     "data": {
      "text/plain": [
       "Text(-1.39545,0.810715,'1')"
      ]
     },
     "execution_count": 500,
     "metadata": {},
     "output_type": "execute_result"
    },
    {
     "data": {
      "text/plain": [
       "Text(-5.35161,-0.744379,'1')"
      ]
     },
     "execution_count": 500,
     "metadata": {},
     "output_type": "execute_result"
    },
    {
     "data": {
      "text/plain": [
       "Text(-1.63037,-3.62697,'1')"
      ]
     },
     "execution_count": 500,
     "metadata": {},
     "output_type": "execute_result"
    },
    {
     "data": {
      "text/plain": [
       "Text(19.4014,-5.00609,'1')"
      ]
     },
     "execution_count": 500,
     "metadata": {},
     "output_type": "execute_result"
    },
    {
     "data": {
      "text/plain": [
       "Text(-2.50532,2.41209,'2')"
      ]
     },
     "execution_count": 500,
     "metadata": {},
     "output_type": "execute_result"
    },
    {
     "data": {
      "text/plain": [
       "Text(-1.7764,2.80382,'2')"
      ]
     },
     "execution_count": 500,
     "metadata": {},
     "output_type": "execute_result"
    },
    {
     "data": {
      "text/plain": [
       "Text(-2.98546,2.52693,'2')"
      ]
     },
     "execution_count": 500,
     "metadata": {},
     "output_type": "execute_result"
    },
    {
     "data": {
      "text/plain": [
       "Text(-0.228192,-7.97619,'1')"
      ]
     },
     "execution_count": 500,
     "metadata": {},
     "output_type": "execute_result"
    },
    {
     "data": {
      "text/plain": [
       "Text(-1.23886,2.60512,'1')"
      ]
     },
     "execution_count": 500,
     "metadata": {},
     "output_type": "execute_result"
    },
    {
     "data": {
      "text/plain": [
       "Text(-4.04074,-3.73828,'0')"
      ]
     },
     "execution_count": 500,
     "metadata": {},
     "output_type": "execute_result"
    },
    {
     "data": {
      "text/plain": [
       "Text(-5.38285,6.45351,'2')"
      ]
     },
     "execution_count": 500,
     "metadata": {},
     "output_type": "execute_result"
    },
    {
     "data": {
      "text/plain": [
       "Text(18.916,1.70951,'1')"
      ]
     },
     "execution_count": 500,
     "metadata": {},
     "output_type": "execute_result"
    },
    {
     "data": {
      "text/plain": [
       "Text(-1.58854,-3.42128,'1')"
      ]
     },
     "execution_count": 500,
     "metadata": {},
     "output_type": "execute_result"
    },
    {
     "data": {
      "text/plain": [
       "Text(-3.53815,-0.149084,'2')"
      ]
     },
     "execution_count": 500,
     "metadata": {},
     "output_type": "execute_result"
    },
    {
     "data": {
      "text/plain": [
       "Text(0.0299003,-1.10712,'1')"
      ]
     },
     "execution_count": 500,
     "metadata": {},
     "output_type": "execute_result"
    },
    {
     "data": {
      "text/plain": [
       "Text(-5.72689,1.68694,'1')"
      ]
     },
     "execution_count": 500,
     "metadata": {},
     "output_type": "execute_result"
    },
    {
     "data": {
      "text/plain": [
       "Text(-1.62324,-0.293964,'1')"
      ]
     },
     "execution_count": 500,
     "metadata": {},
     "output_type": "execute_result"
    },
    {
     "data": {
      "text/plain": [
       "Text(-0.683612,-3.16802,'0')"
      ]
     },
     "execution_count": 500,
     "metadata": {},
     "output_type": "execute_result"
    },
    {
     "data": {
      "text/plain": [
       "Text(-0.0154056,6.05471,'1')"
      ]
     },
     "execution_count": 500,
     "metadata": {},
     "output_type": "execute_result"
    },
    {
     "data": {
      "text/plain": [
       "Text(-2.77389,-1.3499,'2')"
      ]
     },
     "execution_count": 500,
     "metadata": {},
     "output_type": "execute_result"
    },
    {
     "data": {
      "text/plain": [
       "Text(-1.92159,9.55738,'1')"
      ]
     },
     "execution_count": 500,
     "metadata": {},
     "output_type": "execute_result"
    },
    {
     "data": {
      "text/plain": [
       "Text(0.223284,1.03544,'1')"
      ]
     },
     "execution_count": 500,
     "metadata": {},
     "output_type": "execute_result"
    },
    {
     "data": {
      "text/plain": [
       "Text(-0.808549,-2.72853,'2')"
      ]
     },
     "execution_count": 500,
     "metadata": {},
     "output_type": "execute_result"
    },
    {
     "data": {
      "text/plain": [
       "Text(-0.0297063,3.20931,'1')"
      ]
     },
     "execution_count": 500,
     "metadata": {},
     "output_type": "execute_result"
    },
    {
     "data": {
      "text/plain": [
       "Text(-0.932516,-7.59492,'1')"
      ]
     },
     "execution_count": 500,
     "metadata": {},
     "output_type": "execute_result"
    },
    {
     "data": {
      "text/plain": [
       "Text(-1.6791,3.44552,'0')"
      ]
     },
     "execution_count": 500,
     "metadata": {},
     "output_type": "execute_result"
    },
    {
     "data": {
      "text/plain": [
       "Text(-0.338924,1.20957,'1')"
      ]
     },
     "execution_count": 500,
     "metadata": {},
     "output_type": "execute_result"
    },
    {
     "data": {
      "text/plain": [
       "Text(18.4584,2.75193,'1')"
      ]
     },
     "execution_count": 500,
     "metadata": {},
     "output_type": "execute_result"
    },
    {
     "data": {
      "text/plain": [
       "Text(-1.73449,0.551963,'1')"
      ]
     },
     "execution_count": 500,
     "metadata": {},
     "output_type": "execute_result"
    },
    {
     "data": {
      "text/plain": [
       "Text(-0.580193,0.200261,'1')"
      ]
     },
     "execution_count": 500,
     "metadata": {},
     "output_type": "execute_result"
    },
    {
     "data": {
      "text/plain": [
       "Text(-1.66024,3.3877,'2')"
      ]
     },
     "execution_count": 500,
     "metadata": {},
     "output_type": "execute_result"
    },
    {
     "data": {
      "text/plain": [
       "Text(0.0535109,-3.37321,'1')"
      ]
     },
     "execution_count": 500,
     "metadata": {},
     "output_type": "execute_result"
    },
    {
     "data": {
      "text/plain": [
       "Text(-0.54795,-1.4149,'1')"
      ]
     },
     "execution_count": 500,
     "metadata": {},
     "output_type": "execute_result"
    },
    {
     "data": {
      "text/plain": [
       "Text(20.2226,-1.09025,'1')"
      ]
     },
     "execution_count": 500,
     "metadata": {},
     "output_type": "execute_result"
    },
    {
     "data": {
      "text/plain": [
       "Text(-1.1334,-5.29568,'1')"
      ]
     },
     "execution_count": 500,
     "metadata": {},
     "output_type": "execute_result"
    },
    {
     "data": {
      "text/plain": [
       "Text(1.10236,3.8975,'1')"
      ]
     },
     "execution_count": 500,
     "metadata": {},
     "output_type": "execute_result"
    },
    {
     "data": {
      "text/plain": [
       "Text(-2.02919,-1.27968,'2')"
      ]
     },
     "execution_count": 500,
     "metadata": {},
     "output_type": "execute_result"
    },
    {
     "data": {
      "text/plain": [
       "Text(-2.38834,-0.352136,'1')"
      ]
     },
     "execution_count": 500,
     "metadata": {},
     "output_type": "execute_result"
    },
    {
     "data": {
      "text/plain": [
       "Text(-4.68066,-3.70318,'2')"
      ]
     },
     "execution_count": 500,
     "metadata": {},
     "output_type": "execute_result"
    },
    {
     "data": {
      "text/plain": [
       "Text(-0.0272089,4.21336,'1')"
      ]
     },
     "execution_count": 500,
     "metadata": {},
     "output_type": "execute_result"
    },
    {
     "data": {
      "text/plain": [
       "Text(-2.5977,-6.18932,'1')"
      ]
     },
     "execution_count": 500,
     "metadata": {},
     "output_type": "execute_result"
    },
    {
     "data": {
      "text/plain": [
       "Text(-5.48274,0.444151,'1')"
      ]
     },
     "execution_count": 500,
     "metadata": {},
     "output_type": "execute_result"
    },
    {
     "data": {
      "text/plain": [
       "Text(20.4708,-7.71385,'1')"
      ]
     },
     "execution_count": 500,
     "metadata": {},
     "output_type": "execute_result"
    },
    {
     "data": {
      "text/plain": [
       "Text(19.9094,6.91566,'2')"
      ]
     },
     "execution_count": 500,
     "metadata": {},
     "output_type": "execute_result"
    },
    {
     "data": {
      "text/plain": [
       "Text(-6.68951,-2.0369,'1')"
      ]
     },
     "execution_count": 500,
     "metadata": {},
     "output_type": "execute_result"
    },
    {
     "data": {
      "text/plain": [
       "Text(-4.42983,-5.10387,'1')"
      ]
     },
     "execution_count": 500,
     "metadata": {},
     "output_type": "execute_result"
    },
    {
     "data": {
      "text/plain": [
       "Text(-3.67103,-1.45611,'1')"
      ]
     },
     "execution_count": 500,
     "metadata": {},
     "output_type": "execute_result"
    },
    {
     "data": {
      "text/plain": [
       "Text(-5.22476,-3.25668,'1')"
      ]
     },
     "execution_count": 500,
     "metadata": {},
     "output_type": "execute_result"
    },
    {
     "data": {
      "text/plain": [
       "Text(0.000135331,2.60995,'2')"
      ]
     },
     "execution_count": 500,
     "metadata": {},
     "output_type": "execute_result"
    },
    {
     "data": {
      "text/plain": [
       "Text(-1.90143,1.55636,'1')"
      ]
     },
     "execution_count": 500,
     "metadata": {},
     "output_type": "execute_result"
    },
    {
     "data": {
      "text/plain": [
       "Text(-2.90419,-2.74726,'1')"
      ]
     },
     "execution_count": 500,
     "metadata": {},
     "output_type": "execute_result"
    },
    {
     "data": {
      "text/plain": [
       "Text(-2.69596,3.09204,'1')"
      ]
     },
     "execution_count": 500,
     "metadata": {},
     "output_type": "execute_result"
    },
    {
     "data": {
      "text/plain": [
       "Text(-5.01447,0.520578,'1')"
      ]
     },
     "execution_count": 500,
     "metadata": {},
     "output_type": "execute_result"
    },
    {
     "data": {
      "text/plain": [
       "Text(-4.58798,1.74562,'2')"
      ]
     },
     "execution_count": 500,
     "metadata": {},
     "output_type": "execute_result"
    },
    {
     "data": {
      "text/plain": [
       "Text(-3.32823,2.87317,'0')"
      ]
     },
     "execution_count": 500,
     "metadata": {},
     "output_type": "execute_result"
    },
    {
     "data": {
      "text/plain": [
       "Text(-6.23844,0.245089,'0')"
      ]
     },
     "execution_count": 500,
     "metadata": {},
     "output_type": "execute_result"
    },
    {
     "data": {
      "text/plain": [
       "Text(-0.271606,-1.98676,'2')"
      ]
     },
     "execution_count": 500,
     "metadata": {},
     "output_type": "execute_result"
    },
    {
     "data": {
      "text/plain": [
       "Text(-5.1371,1.31243,'0')"
      ]
     },
     "execution_count": 500,
     "metadata": {},
     "output_type": "execute_result"
    },
    {
     "data": {
      "text/plain": [
       "Text(-0.14099,-2.40788,'1')"
      ]
     },
     "execution_count": 500,
     "metadata": {},
     "output_type": "execute_result"
    },
    {
     "data": {
      "text/plain": [
       "Text(-0.715822,-0.336442,'1')"
      ]
     },
     "execution_count": 500,
     "metadata": {},
     "output_type": "execute_result"
    },
    {
     "data": {
      "text/plain": [
       "Text(-0.135862,-1.19934,'1')"
      ]
     },
     "execution_count": 500,
     "metadata": {},
     "output_type": "execute_result"
    },
    {
     "data": {
      "text/plain": [
       "Text(0.389537,1.06246,'1')"
      ]
     },
     "execution_count": 500,
     "metadata": {},
     "output_type": "execute_result"
    },
    {
     "data": {
      "text/plain": [
       "Text(-4.50488,-0.141065,'1')"
      ]
     },
     "execution_count": 500,
     "metadata": {},
     "output_type": "execute_result"
    },
    {
     "data": {
      "text/plain": [
       "Text(1.47693,1.8145,'0')"
      ]
     },
     "execution_count": 500,
     "metadata": {},
     "output_type": "execute_result"
    },
    {
     "data": {
      "text/plain": [
       "Text(0.29881,-1.24459,'1')"
      ]
     },
     "execution_count": 500,
     "metadata": {},
     "output_type": "execute_result"
    },
    {
     "data": {
      "text/plain": [
       "Text(-4.96784,-3.9846,'2')"
      ]
     },
     "execution_count": 500,
     "metadata": {},
     "output_type": "execute_result"
    },
    {
     "data": {
      "text/plain": [
       "Text(-0.594319,-1.76691,'0')"
      ]
     },
     "execution_count": 500,
     "metadata": {},
     "output_type": "execute_result"
    },
    {
     "data": {
      "text/plain": [
       "Text(-1.93178,-6.02655,'1')"
      ]
     },
     "execution_count": 500,
     "metadata": {},
     "output_type": "execute_result"
    },
    {
     "data": {
      "text/plain": [
       "Text(0.778335,2.6472,'1')"
      ]
     },
     "execution_count": 500,
     "metadata": {},
     "output_type": "execute_result"
    },
    {
     "data": {
      "text/plain": [
       "Text(-4.16231,-4.63815,'1')"
      ]
     },
     "execution_count": 500,
     "metadata": {},
     "output_type": "execute_result"
    },
    {
     "data": {
      "text/plain": [
       "Text(-2.40481,0.875022,'1')"
      ]
     },
     "execution_count": 500,
     "metadata": {},
     "output_type": "execute_result"
    },
    {
     "data": {
      "text/plain": [
       "Text(-0.393793,6.06077,'1')"
      ]
     },
     "execution_count": 500,
     "metadata": {},
     "output_type": "execute_result"
    },
    {
     "data": {
      "text/plain": [
       "Text(-1.11268,-1.01881,'1')"
      ]
     },
     "execution_count": 500,
     "metadata": {},
     "output_type": "execute_result"
    },
    {
     "data": {
      "text/plain": [
       "Text(-0.230508,4.74473,'2')"
      ]
     },
     "execution_count": 500,
     "metadata": {},
     "output_type": "execute_result"
    },
    {
     "data": {
      "text/plain": [
       "Text(-1.92497,4.43462,'1')"
      ]
     },
     "execution_count": 500,
     "metadata": {},
     "output_type": "execute_result"
    },
    {
     "data": {
      "text/plain": [
       "Text(-0.646907,2.17279,'2')"
      ]
     },
     "execution_count": 500,
     "metadata": {},
     "output_type": "execute_result"
    },
    {
     "data": {
      "text/plain": [
       "Text(-5.23793,2.7703,'2')"
      ]
     },
     "execution_count": 500,
     "metadata": {},
     "output_type": "execute_result"
    },
    {
     "data": {
      "text/plain": [
       "Text(-2.80808,3.68061,'2')"
      ]
     },
     "execution_count": 500,
     "metadata": {},
     "output_type": "execute_result"
    },
    {
     "data": {
      "text/plain": [
       "Text(-0.755599,-4.00148,'1')"
      ]
     },
     "execution_count": 500,
     "metadata": {},
     "output_type": "execute_result"
    },
    {
     "data": {
      "text/plain": [
       "Text(-1.59484,7.14429,'1')"
      ]
     },
     "execution_count": 500,
     "metadata": {},
     "output_type": "execute_result"
    },
    {
     "data": {
      "text/plain": [
       "Text(19.6508,-3.56758,'2')"
      ]
     },
     "execution_count": 500,
     "metadata": {},
     "output_type": "execute_result"
    },
    {
     "data": {
      "text/plain": [
       "Text(-4.57504,-5.11189,'0')"
      ]
     },
     "execution_count": 500,
     "metadata": {},
     "output_type": "execute_result"
    },
    {
     "data": {
      "text/plain": [
       "Text(1.54905,-2.89395,'1')"
      ]
     },
     "execution_count": 500,
     "metadata": {},
     "output_type": "execute_result"
    },
    {
     "data": {
      "text/plain": [
       "Text(-4.10071,4.39745,'2')"
      ]
     },
     "execution_count": 500,
     "metadata": {},
     "output_type": "execute_result"
    },
    {
     "data": {
      "text/plain": [
       "Text(-1.40214,-5.82122,'1')"
      ]
     },
     "execution_count": 500,
     "metadata": {},
     "output_type": "execute_result"
    },
    {
     "data": {
      "text/plain": [
       "Text(-1.68479,1.24774,'2')"
      ]
     },
     "execution_count": 500,
     "metadata": {},
     "output_type": "execute_result"
    },
    {
     "data": {
      "text/plain": [
       "Text(-0.291595,-1.76382,'1')"
      ]
     },
     "execution_count": 500,
     "metadata": {},
     "output_type": "execute_result"
    },
    {
     "data": {
      "text/plain": [
       "Text(-0.81267,-0.952719,'2')"
      ]
     },
     "execution_count": 500,
     "metadata": {},
     "output_type": "execute_result"
    },
    {
     "data": {
      "text/plain": [
       "Text(0.527084,-5.2859,'1')"
      ]
     },
     "execution_count": 500,
     "metadata": {},
     "output_type": "execute_result"
    },
    {
     "data": {
      "text/plain": [
       "Text(-0.220787,8.29633,'2')"
      ]
     },
     "execution_count": 500,
     "metadata": {},
     "output_type": "execute_result"
    },
    {
     "data": {
      "text/plain": [
       "Text(-0.390033,-3.26783,'1')"
      ]
     },
     "execution_count": 500,
     "metadata": {},
     "output_type": "execute_result"
    },
    {
     "data": {
      "text/plain": [
       "Text(18.0033,-0.700064,'1')"
      ]
     },
     "execution_count": 500,
     "metadata": {},
     "output_type": "execute_result"
    },
    {
     "data": {
      "text/plain": [
       "Text(19.0567,2.55624,'1')"
      ]
     },
     "execution_count": 500,
     "metadata": {},
     "output_type": "execute_result"
    },
    {
     "data": {
      "text/plain": [
       "Text(-1.6673,1.84282,'2')"
      ]
     },
     "execution_count": 500,
     "metadata": {},
     "output_type": "execute_result"
    },
    {
     "data": {
      "text/plain": [
       "Text(-1.06212,7.11034,'1')"
      ]
     },
     "execution_count": 500,
     "metadata": {},
     "output_type": "execute_result"
    },
    {
     "data": {
      "text/plain": [
       "Text(1.02424,-5.01133,'1')"
      ]
     },
     "execution_count": 500,
     "metadata": {},
     "output_type": "execute_result"
    },
    {
     "data": {
      "text/plain": [
       "Text(-1.4897,-4.94873,'2')"
      ]
     },
     "execution_count": 500,
     "metadata": {},
     "output_type": "execute_result"
    },
    {
     "data": {
      "text/plain": [
       "Text(-4.45335,4.97849,'1')"
      ]
     },
     "execution_count": 500,
     "metadata": {},
     "output_type": "execute_result"
    },
    {
     "data": {
      "text/plain": [
       "Text(-6.53048,5.04902,'2')"
      ]
     },
     "execution_count": 500,
     "metadata": {},
     "output_type": "execute_result"
    },
    {
     "data": {
      "text/plain": [
       "Text(18.7305,5.57807,'1')"
      ]
     },
     "execution_count": 500,
     "metadata": {},
     "output_type": "execute_result"
    },
    {
     "data": {
      "text/plain": [
       "Text(-2.27027,-2.51137,'0')"
      ]
     },
     "execution_count": 500,
     "metadata": {},
     "output_type": "execute_result"
    },
    {
     "data": {
      "text/plain": [
       "Text(0.748555,-4.59034,'0')"
      ]
     },
     "execution_count": 500,
     "metadata": {},
     "output_type": "execute_result"
    },
    {
     "data": {
      "text/plain": [
       "Text(-0.783072,0.918086,'1')"
      ]
     },
     "execution_count": 500,
     "metadata": {},
     "output_type": "execute_result"
    },
    {
     "data": {
      "text/plain": [
       "Text(-1.23854,-3.02941,'1')"
      ]
     },
     "execution_count": 500,
     "metadata": {},
     "output_type": "execute_result"
    },
    {
     "data": {
      "text/plain": [
       "Text(-1.40245,1.9141,'1')"
      ]
     },
     "execution_count": 500,
     "metadata": {},
     "output_type": "execute_result"
    },
    {
     "data": {
      "text/plain": [
       "Text(0.121337,-3.38875,'0')"
      ]
     },
     "execution_count": 500,
     "metadata": {},
     "output_type": "execute_result"
    },
    {
     "data": {
      "text/plain": [
       "Text(0.665737,-1.1262,'0')"
      ]
     },
     "execution_count": 500,
     "metadata": {},
     "output_type": "execute_result"
    },
    {
     "data": {
      "image/png": "[encoded data removed]",
      "text/plain": [
       "<Figure size 1008x1008 with 1 Axes>"
      ]
     },
     "metadata": {
      "needs_background": "light"
     },
     "output_type": "display_data"
    }
   ],
   "source": [
    "# plotting 2nd and 3rd PCA components\n",
    "\n",
    "fig, ax = plt.subplots(figsize=(14,14))\n",
    "ax.scatter(df_train_dum_num_transformed[:, 1], df_train_dum_num_transformed[:, 2], marker='o', alpha=0.4)\n",
    "\n",
    "x = df_train_dum_num_transformed[:, 1]\n",
    "y = df_train_dum_num_transformed[:, 2]\n",
    "\n",
    "for i, lbl in enumerate(df_trainlabels.iloc[:, 0]):\n",
    "    ax.annotate(lbl, (x[i], y[i]))"
   ]
  },
  {
   "cell_type": "markdown",
   "metadata": {},
   "source": [
    "There seeems to be 3 clusters; unfortunately, these 3 are not separated according to their class labels."
   ]
  },
  {
   "cell_type": "code",
   "execution_count": 553,
   "metadata": {
    "scrolled": false
   },
   "outputs": [
    {
     "name": "stdout",
     "output_type": "stream",
     "text": [
      "0.7379310344827585\n"
     ]
    }
   ],
   "source": [
    "# logistic regression as a baseline using multinomial loss \n",
    "# https://scikit-learn.org/stable/modules/generated/sklearn.linear_model.LogisticRegressionCV.html\n",
    "\n",
    "X = df_train_dum_num_transformed\n",
    "y = df_trainlabels.iloc[:, 0].tolist()\n",
    "\n",
    "lr_clf = LogisticRegression(multi_class='multinomial', solver='lbfgs')\n",
    "scores = cross_val_score(lr_clf, X, y, cv=5)\n",
    "\n",
    "print(scores.mean())"
   ]
  },
  {
   "cell_type": "code",
   "execution_count": 535,
   "metadata": {},
   "outputs": [
    {
     "name": "stdout",
     "output_type": "stream",
     "text": [
      "0.658441890166028\n"
     ]
    }
   ],
   "source": [
    "k = 5\n",
    "knn_clf = neighbors.KNeighborsClassifier(n_neighbors=k)\n",
    "scores = cross_val_score(knn_clf, X, y, cv=5)\n",
    "print(scores.mean())"
   ]
  },
  {
   "cell_type": "code",
   "execution_count": 496,
   "metadata": {},
   "outputs": [
    {
     "name": "stdout",
     "output_type": "stream",
     "text": [
      "0.6942273307790549\n"
     ]
    }
   ],
   "source": [
    "svm_clf = svm.SVC(kernel='linear', class_weight={0: 8.235, 1: 2.414, 2: 0.707})\n",
    "scores = cross_val_score(svm_clf, X, y, cv=5)\n",
    "\n",
    "print(scores.mean())"
   ]
  },
  {
   "cell_type": "code",
   "execution_count": 494,
   "metadata": {},
   "outputs": [
    {
     "name": "stdout",
     "output_type": "stream",
     "text": [
      "[0.63636364 0.72727273 0.7        0.8        0.7        0.7\n",
      " 0.7        0.77777778 0.55555556 0.77777778 0.77777778 0.625\n",
      " 0.875      0.75       0.875     ]\n",
      "0.7318350168350168\n"
     ]
    }
   ],
   "source": [
    "sgd_clf = SGDClassifier(loss=\"hinge\", penalty=\"l2\", max_iter=97)\n",
    "scores = cross_val_score(sgd_clf, X, y, cv=15)\n",
    "print(scores)\n",
    "print(scores.mean())"
   ]
  },
  {
   "cell_type": "code",
   "execution_count": 550,
   "metadata": {},
   "outputs": [
    {
     "name": "stdout",
     "output_type": "stream",
     "text": [
      "0.6456704980842912\n"
     ]
    }
   ],
   "source": [
    "from sklearn.neural_network import MLPClassifier\n",
    "mlp_clf = MLPClassifier(solver='lbfgs', alpha=1e-5, random_state=1)\n",
    "\n",
    "scores = cross_val_score(mlp_clf, X, y, cv=5)\n",
    "print(scores.mean())"
   ]
  },
  {
   "cell_type": "code",
   "execution_count": 575,
   "metadata": {},
   "outputs": [
    {
     "name": "stdout",
     "output_type": "stream",
     "text": [
      "Accuracy: 0.74 (+/- 0.05) [Logistic Regression]\n",
      "Accuracy: 0.66 (+/- 0.06) [KNN]\n",
      "Accuracy: 0.69 (+/- 0.06) [SVM_SVC]\n",
      "Accuracy: 0.72 (+/- 0.03) [SVM_SGD]\n",
      "Accuracy: 0.65 (+/- 0.08) [MLP]\n",
      "Accuracy: 0.73 (+/- 0.07) [Ensemble]\n"
     ]
    }
   ],
   "source": [
    "clf1 = LogisticRegression(multi_class='multinomial', solver='lbfgs')\n",
    "clf2 = neighbors.KNeighborsClassifier(n_neighbors=5)\n",
    "clf3 = svm.SVC(kernel='linear', class_weight={0: 8.235, 1: 2.414, 2: 0.707})\n",
    "clf4 = SGDClassifier(loss=\"hinge\", penalty=\"l2\", max_iter=100)\n",
    "clf5 = MLPClassifier(solver='lbfgs', alpha=1e-5, random_state=1)\n",
    "\n",
    "eclf = VotingClassifier(estimators=[('lr', clf1), ('knn', clf2), ('svm_svc', clf3), ('svm_sgd', clf4), ('mlp_cf', clf5)], voting='hard')\n",
    "\n",
    "for clf, label in zip([clf1, clf2, clf3, clf4, clf5, eclf], ['Logistic Regression', 'KNN', 'SVM_SVC', 'SVM_SGD', 'MLP', 'Ensemble']):\n",
    "    scores = cross_val_score(clf, X, y, cv=5, scoring='accuracy')\n",
    "    print(\"Accuracy: %0.2f (+/- %0.2f) [%s]\" % (scores.mean(), scores.std(), label))"
   ]
  },
  {
   "cell_type": "code",
   "execution_count": null,
   "metadata": {},
   "outputs": [],
   "source": []
  }
 ],
 "metadata": {
  "kernelspec": {
   "display_name": "Python 3",
   "language": "python",
   "name": "python3"
  },
  "language_info": {
   "codemirror_mode": {
    "name": "ipython",
    "version": 3
   },
   "file_extension": ".py",
   "mimetype": "text/x-python",
   "name": "python",
   "nbconvert_exporter": "python",
   "pygments_lexer": "ipython3",
   "version": "3.7.2"
  }
 },
 "nbformat": 4,
 "nbformat_minor": 2
}
